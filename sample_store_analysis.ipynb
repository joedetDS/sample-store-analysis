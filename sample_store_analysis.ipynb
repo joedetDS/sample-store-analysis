{
 "cells": [
  {
   "cell_type": "markdown",
   "id": "bcae8d92",
   "metadata": {},
   "source": [
    "<div style=\"padding-right: 100px;\">\n",
    "<img src=\"sample_store.png\" width=\"800\" height=\"100\">\n",
    "</div>"
   ]
  },
  {
   "cell_type": "markdown",
   "id": "6b0589e1",
   "metadata": {},
   "source": [
    "# Introduction\n",
    "\n",
    "In this analysis, I will explore the sample store dataset from https://www.kaggle.com/code/filizesenkaya/sample-store on Kaggle  , a well-known dataset for data analysis. This dataset contains a wide range of features, including order ID, country, region, price, quantity, discount, profit, and many others. I have selected a subset of 100 records from the dataset and will perform various data analysis tasks to gain insights into the data."
   ]
  },
  {
   "cell_type": "markdown",
   "id": "6a29ff75",
   "metadata": {},
   "source": [
    "# Problem Statement\n",
    "\n",
    "This analysis seeks to pinpoint the underlying causes of recent financial losses by spotting which year, category and sub-categoryof product had the most lost and also develop strategies to address them while safeguarding customer satisfaction and the company's long-term sustainability."
   ]
  },
  {
   "cell_type": "markdown",
   "id": "85266d75",
   "metadata": {},
   "source": [
    "# 📚Imports"
   ]
  },
  {
   "cell_type": "code",
   "execution_count": 1,
   "id": "446d013f",
   "metadata": {},
   "outputs": [],
   "source": [
    "#Import necessary libraries\n",
    "\n",
    "import pandas as pd #for processing, I/O,etc\n",
    "#For visualization\n",
    "import matplotlib.pyplot as plt\n",
    "import seaborn as sns\n",
    "\n",
    "#To silent warnings\n",
    "import warnings\n",
    "warnings.filterwarnings(\"ignore\")"
   ]
  },
  {
   "cell_type": "markdown",
   "id": "1de2a207",
   "metadata": {},
   "source": [
    "# 🧾Data Loading"
   ]
  },
  {
   "cell_type": "code",
   "execution_count": 2,
   "id": "4484ce10",
   "metadata": {},
   "outputs": [],
   "source": [
    "#Load the ddatset to a dataframe\n",
    "df = pd.read_csv(\"sample_store.csv\")"
   ]
  },
  {
   "cell_type": "code",
   "execution_count": 3,
   "id": "865e7c4a",
   "metadata": {},
   "outputs": [
    {
     "data": {
      "text/html": [
       "<div>\n",
       "<style scoped>\n",
       "    .dataframe tbody tr th:only-of-type {\n",
       "        vertical-align: middle;\n",
       "    }\n",
       "\n",
       "    .dataframe tbody tr th {\n",
       "        vertical-align: top;\n",
       "    }\n",
       "\n",
       "    .dataframe thead th {\n",
       "        text-align: right;\n",
       "    }\n",
       "</style>\n",
       "<table border=\"1\" class=\"dataframe\">\n",
       "  <thead>\n",
       "    <tr style=\"text-align: right;\">\n",
       "      <th></th>\n",
       "      <th>Order ID</th>\n",
       "      <th>Order Date</th>\n",
       "      <th>Ship Date</th>\n",
       "      <th>Ship Mode</th>\n",
       "      <th>Customer ID</th>\n",
       "      <th>Customer Name</th>\n",
       "      <th>Segment</th>\n",
       "      <th>Country</th>\n",
       "      <th>City</th>\n",
       "      <th>State</th>\n",
       "      <th>Postal Code</th>\n",
       "      <th>Region</th>\n",
       "      <th>Product ID</th>\n",
       "      <th>Category</th>\n",
       "      <th>Sub-Category</th>\n",
       "      <th>Product Name</th>\n",
       "      <th>Sales</th>\n",
       "      <th>Quantity</th>\n",
       "      <th>Discount</th>\n",
       "      <th>Profit</th>\n",
       "    </tr>\n",
       "  </thead>\n",
       "  <tbody>\n",
       "    <tr>\n",
       "      <th>0</th>\n",
       "      <td>CA-2016-152156</td>\n",
       "      <td>2016-11-08</td>\n",
       "      <td>2016-11-11</td>\n",
       "      <td>Second Class</td>\n",
       "      <td>CG-12520</td>\n",
       "      <td>Claire Gute</td>\n",
       "      <td>Consumer</td>\n",
       "      <td>United States</td>\n",
       "      <td>Henderson</td>\n",
       "      <td>Kentucky</td>\n",
       "      <td>42420</td>\n",
       "      <td>South</td>\n",
       "      <td>FUR-BO-10001798</td>\n",
       "      <td>Furniture</td>\n",
       "      <td>Bookcases</td>\n",
       "      <td>Bush Somerset Collection Bookcase</td>\n",
       "      <td>261.9600</td>\n",
       "      <td>2</td>\n",
       "      <td>0.00</td>\n",
       "      <td>41.9136</td>\n",
       "    </tr>\n",
       "    <tr>\n",
       "      <th>1</th>\n",
       "      <td>CA-2016-152156</td>\n",
       "      <td>2016-11-08</td>\n",
       "      <td>2016-11-11</td>\n",
       "      <td>Second Class</td>\n",
       "      <td>CG-12520</td>\n",
       "      <td>Claire Gute</td>\n",
       "      <td>Consumer</td>\n",
       "      <td>United States</td>\n",
       "      <td>Henderson</td>\n",
       "      <td>Kentucky</td>\n",
       "      <td>42420</td>\n",
       "      <td>South</td>\n",
       "      <td>FUR-CH-10000454</td>\n",
       "      <td>Furniture</td>\n",
       "      <td>Chairs</td>\n",
       "      <td>Hon Deluxe Fabric Upholstered Stacking Chairs,...</td>\n",
       "      <td>731.9400</td>\n",
       "      <td>3</td>\n",
       "      <td>0.00</td>\n",
       "      <td>219.5820</td>\n",
       "    </tr>\n",
       "    <tr>\n",
       "      <th>2</th>\n",
       "      <td>CA-2016-138688</td>\n",
       "      <td>2016-06-12</td>\n",
       "      <td>2016-06-16</td>\n",
       "      <td>Second Class</td>\n",
       "      <td>DV-13045</td>\n",
       "      <td>Darrin Van Huff</td>\n",
       "      <td>Corporate</td>\n",
       "      <td>United States</td>\n",
       "      <td>Los Angeles</td>\n",
       "      <td>California</td>\n",
       "      <td>90036</td>\n",
       "      <td>West</td>\n",
       "      <td>OFF-LA-10000240</td>\n",
       "      <td>Office Supplies</td>\n",
       "      <td>Labels</td>\n",
       "      <td>Self-Adhesive Address Labels for Typewriters b...</td>\n",
       "      <td>14.6200</td>\n",
       "      <td>2</td>\n",
       "      <td>0.00</td>\n",
       "      <td>6.8714</td>\n",
       "    </tr>\n",
       "    <tr>\n",
       "      <th>3</th>\n",
       "      <td>US-2015-108966</td>\n",
       "      <td>2015-10-11</td>\n",
       "      <td>2015-10-18</td>\n",
       "      <td>Standard Class</td>\n",
       "      <td>SO-20335</td>\n",
       "      <td>Sean O'Donnell</td>\n",
       "      <td>Consumer</td>\n",
       "      <td>United States</td>\n",
       "      <td>Fort Lauderdale</td>\n",
       "      <td>Florida</td>\n",
       "      <td>33311</td>\n",
       "      <td>South</td>\n",
       "      <td>FUR-TA-10000577</td>\n",
       "      <td>Furniture</td>\n",
       "      <td>Tables</td>\n",
       "      <td>Bretford CR4500 Series Slim Rectangular Table</td>\n",
       "      <td>957.5775</td>\n",
       "      <td>5</td>\n",
       "      <td>0.45</td>\n",
       "      <td>-383.0310</td>\n",
       "    </tr>\n",
       "    <tr>\n",
       "      <th>4</th>\n",
       "      <td>US-2015-108966</td>\n",
       "      <td>2015-10-11</td>\n",
       "      <td>2015-10-18</td>\n",
       "      <td>Standard Class</td>\n",
       "      <td>SO-20335</td>\n",
       "      <td>Sean O'Donnell</td>\n",
       "      <td>Consumer</td>\n",
       "      <td>United States</td>\n",
       "      <td>Fort Lauderdale</td>\n",
       "      <td>Florida</td>\n",
       "      <td>33311</td>\n",
       "      <td>South</td>\n",
       "      <td>OFF-ST-10000760</td>\n",
       "      <td>Office Supplies</td>\n",
       "      <td>Storage</td>\n",
       "      <td>Eldon Fold 'N Roll Cart System</td>\n",
       "      <td>22.3680</td>\n",
       "      <td>2</td>\n",
       "      <td>0.20</td>\n",
       "      <td>2.5164</td>\n",
       "    </tr>\n",
       "  </tbody>\n",
       "</table>\n",
       "</div>"
      ],
      "text/plain": [
       "         Order ID  Order Date   Ship Date       Ship Mode Customer ID  \\\n",
       "0  CA-2016-152156  2016-11-08  2016-11-11    Second Class    CG-12520   \n",
       "1  CA-2016-152156  2016-11-08  2016-11-11    Second Class    CG-12520   \n",
       "2  CA-2016-138688  2016-06-12  2016-06-16    Second Class    DV-13045   \n",
       "3  US-2015-108966  2015-10-11  2015-10-18  Standard Class    SO-20335   \n",
       "4  US-2015-108966  2015-10-11  2015-10-18  Standard Class    SO-20335   \n",
       "\n",
       "     Customer Name    Segment        Country             City       State  \\\n",
       "0      Claire Gute   Consumer  United States        Henderson    Kentucky   \n",
       "1      Claire Gute   Consumer  United States        Henderson    Kentucky   \n",
       "2  Darrin Van Huff  Corporate  United States      Los Angeles  California   \n",
       "3   Sean O'Donnell   Consumer  United States  Fort Lauderdale     Florida   \n",
       "4   Sean O'Donnell   Consumer  United States  Fort Lauderdale     Florida   \n",
       "\n",
       "   Postal Code Region       Product ID         Category Sub-Category  \\\n",
       "0        42420  South  FUR-BO-10001798        Furniture    Bookcases   \n",
       "1        42420  South  FUR-CH-10000454        Furniture       Chairs   \n",
       "2        90036   West  OFF-LA-10000240  Office Supplies       Labels   \n",
       "3        33311  South  FUR-TA-10000577        Furniture       Tables   \n",
       "4        33311  South  OFF-ST-10000760  Office Supplies      Storage   \n",
       "\n",
       "                                        Product Name     Sales  Quantity  \\\n",
       "0                  Bush Somerset Collection Bookcase  261.9600         2   \n",
       "1  Hon Deluxe Fabric Upholstered Stacking Chairs,...  731.9400         3   \n",
       "2  Self-Adhesive Address Labels for Typewriters b...   14.6200         2   \n",
       "3      Bretford CR4500 Series Slim Rectangular Table  957.5775         5   \n",
       "4                     Eldon Fold 'N Roll Cart System   22.3680         2   \n",
       "\n",
       "   Discount    Profit  \n",
       "0      0.00   41.9136  \n",
       "1      0.00  219.5820  \n",
       "2      0.00    6.8714  \n",
       "3      0.45 -383.0310  \n",
       "4      0.20    2.5164  "
      ]
     },
     "execution_count": 3,
     "metadata": {},
     "output_type": "execute_result"
    }
   ],
   "source": [
    "#Display the first five rows\n",
    "\n",
    "df.head()"
   ]
  },
  {
   "cell_type": "code",
   "execution_count": 4,
   "id": "7512461d",
   "metadata": {},
   "outputs": [
    {
     "data": {
      "text/html": [
       "<div>\n",
       "<style scoped>\n",
       "    .dataframe tbody tr th:only-of-type {\n",
       "        vertical-align: middle;\n",
       "    }\n",
       "\n",
       "    .dataframe tbody tr th {\n",
       "        vertical-align: top;\n",
       "    }\n",
       "\n",
       "    .dataframe thead th {\n",
       "        text-align: right;\n",
       "    }\n",
       "</style>\n",
       "<table border=\"1\" class=\"dataframe\">\n",
       "  <thead>\n",
       "    <tr style=\"text-align: right;\">\n",
       "      <th></th>\n",
       "      <th>Order ID</th>\n",
       "      <th>Order Date</th>\n",
       "      <th>Ship Date</th>\n",
       "      <th>Ship Mode</th>\n",
       "      <th>Customer ID</th>\n",
       "      <th>Customer Name</th>\n",
       "      <th>Segment</th>\n",
       "      <th>Country</th>\n",
       "      <th>City</th>\n",
       "      <th>State</th>\n",
       "      <th>Postal Code</th>\n",
       "      <th>Region</th>\n",
       "      <th>Product ID</th>\n",
       "      <th>Category</th>\n",
       "      <th>Sub-Category</th>\n",
       "      <th>Product Name</th>\n",
       "      <th>Sales</th>\n",
       "      <th>Quantity</th>\n",
       "      <th>Discount</th>\n",
       "      <th>Profit</th>\n",
       "    </tr>\n",
       "  </thead>\n",
       "  <tbody>\n",
       "    <tr>\n",
       "      <th>95</th>\n",
       "      <td>US-2017-109484</td>\n",
       "      <td>2017-11-06</td>\n",
       "      <td>2017-11-12</td>\n",
       "      <td>Standard Class</td>\n",
       "      <td>RB-19705</td>\n",
       "      <td>Roger Barcio</td>\n",
       "      <td>Home Office</td>\n",
       "      <td>United States</td>\n",
       "      <td>Portland</td>\n",
       "      <td>Oregon</td>\n",
       "      <td>97206</td>\n",
       "      <td>West</td>\n",
       "      <td>OFF-BI-10004738</td>\n",
       "      <td>Office Supplies</td>\n",
       "      <td>Binders</td>\n",
       "      <td>Flexible Leather- Look Classic Collection Ring...</td>\n",
       "      <td>5.682</td>\n",
       "      <td>1</td>\n",
       "      <td>0.7</td>\n",
       "      <td>-3.7880</td>\n",
       "    </tr>\n",
       "    <tr>\n",
       "      <th>96</th>\n",
       "      <td>CA-2017-161018</td>\n",
       "      <td>2017-11-09</td>\n",
       "      <td>2017-11-11</td>\n",
       "      <td>Second Class</td>\n",
       "      <td>PN-18775</td>\n",
       "      <td>Parhena Norris</td>\n",
       "      <td>Home Office</td>\n",
       "      <td>United States</td>\n",
       "      <td>New York City</td>\n",
       "      <td>New York</td>\n",
       "      <td>10009</td>\n",
       "      <td>East</td>\n",
       "      <td>FUR-FU-10000629</td>\n",
       "      <td>Furniture</td>\n",
       "      <td>Furnishings</td>\n",
       "      <td>9-3/4 Diameter Round Wall Clock</td>\n",
       "      <td>96.530</td>\n",
       "      <td>7</td>\n",
       "      <td>0.0</td>\n",
       "      <td>40.5426</td>\n",
       "    </tr>\n",
       "    <tr>\n",
       "      <th>97</th>\n",
       "      <td>CA-2017-157833</td>\n",
       "      <td>2017-06-17</td>\n",
       "      <td>2017-06-20</td>\n",
       "      <td>First Class</td>\n",
       "      <td>KD-16345</td>\n",
       "      <td>Katherine Ducich</td>\n",
       "      <td>Consumer</td>\n",
       "      <td>United States</td>\n",
       "      <td>San Francisco</td>\n",
       "      <td>California</td>\n",
       "      <td>94122</td>\n",
       "      <td>West</td>\n",
       "      <td>OFF-BI-10001721</td>\n",
       "      <td>Office Supplies</td>\n",
       "      <td>Binders</td>\n",
       "      <td>Trimflex Flexible Post Binders</td>\n",
       "      <td>51.312</td>\n",
       "      <td>3</td>\n",
       "      <td>0.2</td>\n",
       "      <td>17.9592</td>\n",
       "    </tr>\n",
       "    <tr>\n",
       "      <th>98</th>\n",
       "      <td>CA-2016-149223</td>\n",
       "      <td>2016-09-06</td>\n",
       "      <td>2016-09-11</td>\n",
       "      <td>Standard Class</td>\n",
       "      <td>ER-13855</td>\n",
       "      <td>Elpida Rittenbach</td>\n",
       "      <td>Corporate</td>\n",
       "      <td>United States</td>\n",
       "      <td>Saint Paul</td>\n",
       "      <td>Minnesota</td>\n",
       "      <td>55106</td>\n",
       "      <td>Central</td>\n",
       "      <td>OFF-AP-10000358</td>\n",
       "      <td>Office Supplies</td>\n",
       "      <td>Appliances</td>\n",
       "      <td>Fellowes Basic Home/Office Series Surge Protec...</td>\n",
       "      <td>77.880</td>\n",
       "      <td>6</td>\n",
       "      <td>0.0</td>\n",
       "      <td>22.5852</td>\n",
       "    </tr>\n",
       "    <tr>\n",
       "      <th>99</th>\n",
       "      <td>CA-2016-158568</td>\n",
       "      <td>2016-08-29</td>\n",
       "      <td>2016-09-02</td>\n",
       "      <td>Standard Class</td>\n",
       "      <td>RB-19465</td>\n",
       "      <td>Rick Bensley</td>\n",
       "      <td>Home Office</td>\n",
       "      <td>United States</td>\n",
       "      <td>Chicago</td>\n",
       "      <td>Illinois</td>\n",
       "      <td>60610</td>\n",
       "      <td>Central</td>\n",
       "      <td>OFF-PA-10003256</td>\n",
       "      <td>Office Supplies</td>\n",
       "      <td>Paper</td>\n",
       "      <td>Avery Personal Creations Heavyweight Cards</td>\n",
       "      <td>64.624</td>\n",
       "      <td>7</td>\n",
       "      <td>0.2</td>\n",
       "      <td>22.6184</td>\n",
       "    </tr>\n",
       "  </tbody>\n",
       "</table>\n",
       "</div>"
      ],
      "text/plain": [
       "          Order ID  Order Date   Ship Date       Ship Mode Customer ID  \\\n",
       "95  US-2017-109484  2017-11-06  2017-11-12  Standard Class    RB-19705   \n",
       "96  CA-2017-161018  2017-11-09  2017-11-11    Second Class    PN-18775   \n",
       "97  CA-2017-157833  2017-06-17  2017-06-20     First Class    KD-16345   \n",
       "98  CA-2016-149223  2016-09-06  2016-09-11  Standard Class    ER-13855   \n",
       "99  CA-2016-158568  2016-08-29  2016-09-02  Standard Class    RB-19465   \n",
       "\n",
       "        Customer Name      Segment        Country           City       State  \\\n",
       "95       Roger Barcio  Home Office  United States       Portland      Oregon   \n",
       "96     Parhena Norris  Home Office  United States  New York City    New York   \n",
       "97   Katherine Ducich     Consumer  United States  San Francisco  California   \n",
       "98  Elpida Rittenbach    Corporate  United States     Saint Paul   Minnesota   \n",
       "99       Rick Bensley  Home Office  United States        Chicago    Illinois   \n",
       "\n",
       "    Postal Code   Region       Product ID         Category Sub-Category  \\\n",
       "95        97206     West  OFF-BI-10004738  Office Supplies      Binders   \n",
       "96        10009     East  FUR-FU-10000629        Furniture  Furnishings   \n",
       "97        94122     West  OFF-BI-10001721  Office Supplies      Binders   \n",
       "98        55106  Central  OFF-AP-10000358  Office Supplies   Appliances   \n",
       "99        60610  Central  OFF-PA-10003256  Office Supplies        Paper   \n",
       "\n",
       "                                         Product Name   Sales  Quantity  \\\n",
       "95  Flexible Leather- Look Classic Collection Ring...   5.682         1   \n",
       "96                    9-3/4 Diameter Round Wall Clock  96.530         7   \n",
       "97                     Trimflex Flexible Post Binders  51.312         3   \n",
       "98  Fellowes Basic Home/Office Series Surge Protec...  77.880         6   \n",
       "99         Avery Personal Creations Heavyweight Cards  64.624         7   \n",
       "\n",
       "    Discount   Profit  \n",
       "95       0.7  -3.7880  \n",
       "96       0.0  40.5426  \n",
       "97       0.2  17.9592  \n",
       "98       0.0  22.5852  \n",
       "99       0.2  22.6184  "
      ]
     },
     "execution_count": 4,
     "metadata": {},
     "output_type": "execute_result"
    }
   ],
   "source": [
    "#Display the last five rows\n",
    "\n",
    "df.tail()"
   ]
  },
  {
   "cell_type": "code",
   "execution_count": 5,
   "id": "df604a27",
   "metadata": {},
   "outputs": [
    {
     "data": {
      "text/html": [
       "<div>\n",
       "<style scoped>\n",
       "    .dataframe tbody tr th:only-of-type {\n",
       "        vertical-align: middle;\n",
       "    }\n",
       "\n",
       "    .dataframe tbody tr th {\n",
       "        vertical-align: top;\n",
       "    }\n",
       "\n",
       "    .dataframe thead th {\n",
       "        text-align: right;\n",
       "    }\n",
       "</style>\n",
       "<table border=\"1\" class=\"dataframe\">\n",
       "  <thead>\n",
       "    <tr style=\"text-align: right;\">\n",
       "      <th></th>\n",
       "      <th>Postal Code</th>\n",
       "      <th>Sales</th>\n",
       "      <th>Quantity</th>\n",
       "      <th>Discount</th>\n",
       "      <th>Profit</th>\n",
       "    </tr>\n",
       "  </thead>\n",
       "  <tbody>\n",
       "    <tr>\n",
       "      <th>count</th>\n",
       "      <td>100.000000</td>\n",
       "      <td>100.000000</td>\n",
       "      <td>100.00000</td>\n",
       "      <td>100.00000</td>\n",
       "      <td>100.000000</td>\n",
       "    </tr>\n",
       "    <tr>\n",
       "      <th>mean</th>\n",
       "      <td>57488.280000</td>\n",
       "      <td>215.045317</td>\n",
       "      <td>3.74000</td>\n",
       "      <td>0.15570</td>\n",
       "      <td>-1.018907</td>\n",
       "    </tr>\n",
       "    <tr>\n",
       "      <th>std</th>\n",
       "      <td>29372.579485</td>\n",
       "      <td>428.266851</td>\n",
       "      <td>2.05785</td>\n",
       "      <td>0.20794</td>\n",
       "      <td>181.813419</td>\n",
       "    </tr>\n",
       "    <tr>\n",
       "      <th>min</th>\n",
       "      <td>10009.000000</td>\n",
       "      <td>1.248000</td>\n",
       "      <td>1.00000</td>\n",
       "      <td>0.00000</td>\n",
       "      <td>-1665.052200</td>\n",
       "    </tr>\n",
       "    <tr>\n",
       "      <th>25%</th>\n",
       "      <td>32002.000000</td>\n",
       "      <td>18.243000</td>\n",
       "      <td>2.00000</td>\n",
       "      <td>0.00000</td>\n",
       "      <td>2.672100</td>\n",
       "    </tr>\n",
       "    <tr>\n",
       "      <th>50%</th>\n",
       "      <td>58220.500000</td>\n",
       "      <td>62.482000</td>\n",
       "      <td>3.00000</td>\n",
       "      <td>0.15000</td>\n",
       "      <td>8.120700</td>\n",
       "    </tr>\n",
       "    <tr>\n",
       "      <th>75%</th>\n",
       "      <td>90004.000000</td>\n",
       "      <td>202.778000</td>\n",
       "      <td>5.00000</td>\n",
       "      <td>0.20000</td>\n",
       "      <td>20.411750</td>\n",
       "    </tr>\n",
       "    <tr>\n",
       "      <th>max</th>\n",
       "      <td>98103.000000</td>\n",
       "      <td>3083.430000</td>\n",
       "      <td>9.00000</td>\n",
       "      <td>0.80000</td>\n",
       "      <td>298.685500</td>\n",
       "    </tr>\n",
       "  </tbody>\n",
       "</table>\n",
       "</div>"
      ],
      "text/plain": [
       "        Postal Code        Sales   Quantity   Discount       Profit\n",
       "count    100.000000   100.000000  100.00000  100.00000   100.000000\n",
       "mean   57488.280000   215.045317    3.74000    0.15570    -1.018907\n",
       "std    29372.579485   428.266851    2.05785    0.20794   181.813419\n",
       "min    10009.000000     1.248000    1.00000    0.00000 -1665.052200\n",
       "25%    32002.000000    18.243000    2.00000    0.00000     2.672100\n",
       "50%    58220.500000    62.482000    3.00000    0.15000     8.120700\n",
       "75%    90004.000000   202.778000    5.00000    0.20000    20.411750\n",
       "max    98103.000000  3083.430000    9.00000    0.80000   298.685500"
      ]
     },
     "execution_count": 5,
     "metadata": {},
     "output_type": "execute_result"
    }
   ],
   "source": [
    "#Summarized statistical information about our data\n",
    "\n",
    "df.describe()"
   ]
  },
  {
   "cell_type": "markdown",
   "id": "2c1d19ee",
   "metadata": {},
   "source": [
    "# 🧐Data Inspection"
   ]
  },
  {
   "cell_type": "markdown",
   "id": "6bf1b04a",
   "metadata": {},
   "source": [
    "## Variable Descriptions\n",
    "\n",
    "1. **Order ID**: A unique identifier for each order.\n",
    "2. **Order Date**: The date when the order was placed.\n",
    "3. **Ship Date**: The date when the order was shipped.\n",
    "4. **Ship Mode**: The shipping method used for the order (e.g., standard, second and first class).\n",
    "5. **Customer ID**: A unique identifier for each customer.\n",
    "6. **Customer Name**: The name of the customer who placed the order.\n",
    "7. **Segment**: The market segment to which the customer belongs (e.g., corporate, consumer).\n",
    "8. **Country**: The country where the order was placed.\n",
    "9. **City**: The city where the order was delivered.\n",
    "10. **State**: The state or region within the country.\n",
    "11. **Postal Code**: The postal code for the delivery address.\n",
    "12. **Region**: The geographical region within the country.\n",
    "13. **Product ID**: A unique identifier for each product.\n",
    "14. **Category**: The broad category to which the product belongs (e.g., office supplies, technology).\n",
    "15. **Sub-Category**: A more specific sub-category within the product category (e.g., binders, appliances).\n",
    "16. **Product Name**: The name or description of the product.\n",
    "17. **Sales**: The total sales revenue generated by the order.\n",
    "18. **Quantity**: The number of units of the product ordered.\n",
    "19. **Discount**: The discount applied to the order.\n",
    "20. **Profit**: The profit or earnings associated with the order after accounting for costs."
   ]
  },
  {
   "cell_type": "code",
   "execution_count": 6,
   "id": "46739cf2",
   "metadata": {},
   "outputs": [
    {
     "data": {
      "text/plain": [
       "Index(['Order ID', 'Order Date', 'Ship Date', 'Ship Mode', 'Customer ID',\n",
       "       'Customer Name', 'Segment', 'Country', 'City', 'State', 'Postal Code',\n",
       "       'Region', 'Product ID', 'Category', 'Sub-Category', 'Product Name',\n",
       "       'Sales', 'Quantity', 'Discount', 'Profit'],\n",
       "      dtype='object')"
      ]
     },
     "execution_count": 6,
     "metadata": {},
     "output_type": "execute_result"
    }
   ],
   "source": [
    "#Displaying the columns\n",
    "\n",
    "df.columns"
   ]
  },
  {
   "cell_type": "code",
   "execution_count": 7,
   "id": "aaa61084",
   "metadata": {},
   "outputs": [
    {
     "data": {
      "text/plain": [
       "Order ID         0\n",
       "Order Date       0\n",
       "Ship Date        0\n",
       "Ship Mode        0\n",
       "Customer ID      0\n",
       "Customer Name    0\n",
       "Segment          0\n",
       "Country          0\n",
       "City             0\n",
       "State            0\n",
       "Postal Code      0\n",
       "Region           0\n",
       "Product ID       0\n",
       "Category         0\n",
       "Sub-Category     0\n",
       "Product Name     0\n",
       "Sales            0\n",
       "Quantity         0\n",
       "Discount         0\n",
       "Profit           0\n",
       "dtype: int64"
      ]
     },
     "execution_count": 7,
     "metadata": {},
     "output_type": "execute_result"
    }
   ],
   "source": [
    "#Check for null values\n",
    "\n",
    "df.isna().sum()"
   ]
  },
  {
   "cell_type": "code",
   "execution_count": 8,
   "id": "03eb0213",
   "metadata": {},
   "outputs": [
    {
     "data": {
      "text/plain": [
       "(100, 20)"
      ]
     },
     "execution_count": 8,
     "metadata": {},
     "output_type": "execute_result"
    }
   ],
   "source": [
    "#Display the total number of rows and columns present\n",
    "\n",
    "df.shape"
   ]
  },
  {
   "cell_type": "code",
   "execution_count": 9,
   "id": "2f4d8fe2",
   "metadata": {},
   "outputs": [
    {
     "data": {
      "text/plain": [
       "0"
      ]
     },
     "execution_count": 9,
     "metadata": {},
     "output_type": "execute_result"
    }
   ],
   "source": [
    "#Check for duplicates\n",
    "\n",
    "df.duplicated().sum()"
   ]
  },
  {
   "cell_type": "code",
   "execution_count": 10,
   "id": "1b3c8aa3",
   "metadata": {},
   "outputs": [
    {
     "name": "stdout",
     "output_type": "stream",
     "text": [
      "<class 'pandas.core.frame.DataFrame'>\n",
      "RangeIndex: 100 entries, 0 to 99\n",
      "Data columns (total 20 columns):\n",
      " #   Column         Non-Null Count  Dtype  \n",
      "---  ------         --------------  -----  \n",
      " 0   Order ID       100 non-null    object \n",
      " 1   Order Date     100 non-null    object \n",
      " 2   Ship Date      100 non-null    object \n",
      " 3   Ship Mode      100 non-null    object \n",
      " 4   Customer ID    100 non-null    object \n",
      " 5   Customer Name  100 non-null    object \n",
      " 6   Segment        100 non-null    object \n",
      " 7   Country        100 non-null    object \n",
      " 8   City           100 non-null    object \n",
      " 9   State          100 non-null    object \n",
      " 10  Postal Code    100 non-null    int64  \n",
      " 11  Region         100 non-null    object \n",
      " 12  Product ID     100 non-null    object \n",
      " 13  Category       100 non-null    object \n",
      " 14  Sub-Category   100 non-null    object \n",
      " 15  Product Name   100 non-null    object \n",
      " 16  Sales          100 non-null    float64\n",
      " 17  Quantity       100 non-null    int64  \n",
      " 18  Discount       100 non-null    float64\n",
      " 19  Profit         100 non-null    float64\n",
      "dtypes: float64(3), int64(2), object(15)\n",
      "memory usage: 15.8+ KB\n"
     ]
    }
   ],
   "source": [
    "#Summarized information of the data\n",
    "\n",
    "df.info()"
   ]
  },
  {
   "cell_type": "markdown",
   "id": "04ef15c7",
   "metadata": {},
   "source": [
    "Upon examining the dataset, we observe 100 rows and 20 columns, free from duplicates or null values. To facilitate subsequent analysis, renaming the columns would enhance clarity and data access."
   ]
  },
  {
   "cell_type": "markdown",
   "id": "3d418be8",
   "metadata": {},
   "source": [
    "# 🧽Data Cleaning"
   ]
  },
  {
   "cell_type": "code",
   "execution_count": 11,
   "id": "d442a316",
   "metadata": {},
   "outputs": [],
   "source": [
    "#The columns to be used\n",
    "\n",
    "new_columns = ['order_id', 'order_date', 'ship_date', 'ship_mode', 'customer_id',\n",
    "       'customer_name', 'segment', 'country', 'city', 'state', 'postal_code',\n",
    "       'region', 'product_id', 'category', 'sub_category', 'product_name',\n",
    "       'sales', 'quantity', 'discount', 'profit']"
   ]
  },
  {
   "cell_type": "code",
   "execution_count": 12,
   "id": "54259ec3",
   "metadata": {},
   "outputs": [],
   "source": [
    "#Change the columns to the new one\n",
    "\n",
    "df.columns = new_columns"
   ]
  },
  {
   "cell_type": "code",
   "execution_count": 13,
   "id": "91341b31",
   "metadata": {},
   "outputs": [],
   "source": [
    "#Function to generate year\n",
    "def get_year(date):\n",
    "    split = date.split(\"-\")\n",
    "    return split[0]"
   ]
  },
  {
   "cell_type": "code",
   "execution_count": 14,
   "id": "fe67117f",
   "metadata": {},
   "outputs": [],
   "source": [
    "#apply function on the order date column\n",
    "\n",
    "df[\"year\"]=df[\"order_date\"].apply(get_year)"
   ]
  },
  {
   "cell_type": "code",
   "execution_count": 15,
   "id": "8d69b183",
   "metadata": {},
   "outputs": [
    {
     "data": {
      "text/plain": [
       "0     2016\n",
       "1     2016\n",
       "2     2016\n",
       "3     2015\n",
       "4     2015\n",
       "      ... \n",
       "95    2017\n",
       "96    2017\n",
       "97    2017\n",
       "98    2016\n",
       "99    2016\n",
       "Name: year, Length: 100, dtype: object"
      ]
     },
     "execution_count": 15,
     "metadata": {},
     "output_type": "execute_result"
    }
   ],
   "source": [
    "#Display the year series\n",
    "\n",
    "df[\"year\"]"
   ]
  },
  {
   "cell_type": "code",
   "execution_count": 16,
   "id": "a0e57269",
   "metadata": {},
   "outputs": [],
   "source": [
    "#Group the data by each year\n",
    "\n",
    "df_year = df.groupby('year').sum()"
   ]
  },
  {
   "cell_type": "code",
   "execution_count": 17,
   "id": "ec19bb1a",
   "metadata": {},
   "outputs": [
    {
     "data": {
      "text/html": [
       "<div>\n",
       "<style scoped>\n",
       "    .dataframe tbody tr th:only-of-type {\n",
       "        vertical-align: middle;\n",
       "    }\n",
       "\n",
       "    .dataframe tbody tr th {\n",
       "        vertical-align: top;\n",
       "    }\n",
       "\n",
       "    .dataframe thead th {\n",
       "        text-align: right;\n",
       "    }\n",
       "</style>\n",
       "<table border=\"1\" class=\"dataframe\">\n",
       "  <thead>\n",
       "    <tr style=\"text-align: right;\">\n",
       "      <th></th>\n",
       "      <th>postal_code</th>\n",
       "      <th>sales</th>\n",
       "      <th>quantity</th>\n",
       "      <th>discount</th>\n",
       "      <th>profit</th>\n",
       "    </tr>\n",
       "    <tr>\n",
       "      <th>year</th>\n",
       "      <th></th>\n",
       "      <th></th>\n",
       "      <th></th>\n",
       "      <th></th>\n",
       "      <th></th>\n",
       "    </tr>\n",
       "  </thead>\n",
       "  <tbody>\n",
       "    <tr>\n",
       "      <th>2014</th>\n",
       "      <td>1534313</td>\n",
       "      <td>6228.9860</td>\n",
       "      <td>82</td>\n",
       "      <td>2.20</td>\n",
       "      <td>528.6226</td>\n",
       "    </tr>\n",
       "    <tr>\n",
       "      <th>2015</th>\n",
       "      <td>1662516</td>\n",
       "      <td>8645.2797</td>\n",
       "      <td>125</td>\n",
       "      <td>7.27</td>\n",
       "      <td>-1765.5357</td>\n",
       "    </tr>\n",
       "    <tr>\n",
       "      <th>2016</th>\n",
       "      <td>1650973</td>\n",
       "      <td>5501.8300</td>\n",
       "      <td>122</td>\n",
       "      <td>2.30</td>\n",
       "      <td>1042.0783</td>\n",
       "    </tr>\n",
       "    <tr>\n",
       "      <th>2017</th>\n",
       "      <td>901026</td>\n",
       "      <td>1128.4360</td>\n",
       "      <td>45</td>\n",
       "      <td>3.80</td>\n",
       "      <td>92.9441</td>\n",
       "    </tr>\n",
       "  </tbody>\n",
       "</table>\n",
       "</div>"
      ],
      "text/plain": [
       "      postal_code      sales  quantity  discount     profit\n",
       "year                                                       \n",
       "2014      1534313  6228.9860        82      2.20   528.6226\n",
       "2015      1662516  8645.2797       125      7.27 -1765.5357\n",
       "2016      1650973  5501.8300       122      2.30  1042.0783\n",
       "2017       901026  1128.4360        45      3.80    92.9441"
      ]
     },
     "execution_count": 17,
     "metadata": {},
     "output_type": "execute_result"
    }
   ],
   "source": [
    "df.groupby('year').sum()"
   ]
  },
  {
   "cell_type": "code",
   "execution_count": 18,
   "id": "846c3da7",
   "metadata": {},
   "outputs": [
    {
     "data": {
      "text/plain": [
       "array(['2016', '2015', '2014', '2017'], dtype=object)"
      ]
     },
     "execution_count": 18,
     "metadata": {},
     "output_type": "execute_result"
    }
   ],
   "source": [
    "df['year'].unique()"
   ]
  },
  {
   "cell_type": "markdown",
   "id": "11488aeb",
   "metadata": {},
   "source": [
    "# 🔍Exploratory Data Analysis (EDA)"
   ]
  },
  {
   "cell_type": "markdown",
   "id": "7223a55b",
   "metadata": {},
   "source": [
    "Let's delve into the historical sales data, including sales figures, quantity sold, discounts offered, and profits generated, to uncover any underlying trends or patterns that may exist."
   ]
  },
  {
   "cell_type": "code",
   "execution_count": 19,
   "id": "de811991",
   "metadata": {},
   "outputs": [],
   "source": [
    "# A function for barplots\n",
    "def barplot(x,y,xlabel,ylabel,title,filename):\n",
    "    sns.set()\n",
    "    plt.figure(figsize=(10,6))\n",
    "    sns.barplot(x=x,y=y)\n",
    "    plt.xlabel(xlabel,fontweight='bold')\n",
    "    plt.ylabel(ylabel,fontweight='bold')\n",
    "    plt.title(title,fontweight='bold')\n",
    "    plt.xticks(rotation=45)\n",
    "    plt.savefig(filename)\n",
    "    plt.show()"
   ]
  },
  {
   "cell_type": "code",
   "execution_count": 20,
   "id": "1ba16ec3",
   "metadata": {},
   "outputs": [],
   "source": [
    "# A function for barplots\n",
    "def lineplot(x,y,xlabel,ylabel,title,filename):\n",
    "    sns.set()\n",
    "    plt.figure(figsize=(10,6))\n",
    "    sns.lineplot(x=x,y=y,marker='o')\n",
    "    plt.xlabel(xlabel,fontweight='bold')\n",
    "    plt.ylabel(ylabel,fontweight='bold')\n",
    "    plt.title(title,fontweight='bold')\n",
    "    plt.savefig(filename)\n",
    "    plt.show()"
   ]
  },
  {
   "cell_type": "markdown",
   "id": "2f391d1d",
   "metadata": {},
   "source": [
    "With the evident visibility of sales figures, profit margins, discounts granted, and the quantity of goods sold across the years, let's delve into the data to pinpoint the year that generated the peak profits."
   ]
  },
  {
   "cell_type": "markdown",
   "id": "0253b700",
   "metadata": {},
   "source": [
    "## Identifying the Peak Profit Year"
   ]
  },
  {
   "cell_type": "code",
   "execution_count": 21,
   "id": "a65f9760",
   "metadata": {
    "scrolled": false
   },
   "outputs": [
    {
     "data": {
      "image/png": "[encoded data removed]",
      "text/plain": [
       "<Figure size 1000x600 with 1 Axes>"
      ]
     },
     "metadata": {},
     "output_type": "display_data"
    }
   ],
   "source": [
    "#Call the barplots\n",
    "\n",
    "lineplot(df[\"year\"].unique(),df_year[\"profit\"],\"Year\",\"Profit\",\"Profit Over Years\",\"profit_over_years.png\")"
   ]
  },
  {
   "cell_type": "markdown",
   "id": "d022dd45",
   "metadata": {},
   "source": [
    "As you observed, the plot clearly indicates that 2014 was the peak profit year, while 2015 experienced a significant loss. This remarkable reversal poses an intriguing question: what could have caused such a dramatic shift in profitability? To delve into the underlying reasons, let's conduct a deeper analysis of the sales, quantity sold, and discounts for 2015."
   ]
  },
  {
   "cell_type": "markdown",
   "id": "0cbfded2",
   "metadata": {},
   "source": [
    "## Understanding the Factors Behind the Losses in 2015"
   ]
  },
  {
   "cell_type": "code",
   "execution_count": 22,
   "id": "9b2e8052",
   "metadata": {},
   "outputs": [
    {
     "data": {
      "image/png": "[encoded data removed]",
      "text/plain": [
       "<Figure size 1000x600 with 1 Axes>"
      ]
     },
     "metadata": {},
     "output_type": "display_data"
    }
   ],
   "source": [
    "barplot(df[\"year\"].unique(),df_year[\"sales\"],\"Year\",\"Sales\",\"Sales Over Years\",\"sales_over_years.png\")"
   ]
  },
  {
   "cell_type": "markdown",
   "id": "fdda0f11",
   "metadata": {},
   "source": [
    "Our meticulous examination of the sales data reveals an intriguing pattern i.e, the highest sales volume was recorded in 2015. "
   ]
  },
  {
   "cell_type": "code",
   "execution_count": 23,
   "id": "acf519fd",
   "metadata": {
    "scrolled": false
   },
   "outputs": [
    {
     "data": {
      "image/png": "[encoded data removed]",
      "text/plain": [
       "<Figure size 1000x600 with 1 Axes>"
      ]
     },
     "metadata": {},
     "output_type": "display_data"
    }
   ],
   "source": [
    "barplot(df[\"year\"].unique(),df_year[\"quantity\"],\"Year\",\"Quantity\",\"Quantity Sold Over the Years\",\"quant_sold_over_years.png\")"
   ]
  },
  {
   "cell_type": "markdown",
   "id": "e95c7c5f",
   "metadata": {},
   "source": [
    "A thorough examination of the sales data reveals an intriguing phenomenon: the year 2015 witnessed both the highest quantity sold and the highest sales volume. This seemingly contradictory pattern begs the question: Could the discounts offered on products have been the underlying cause for this unexpected outcome?"
   ]
  },
  {
   "cell_type": "code",
   "execution_count": 24,
   "id": "fb482e34",
   "metadata": {},
   "outputs": [
    {
     "data": {
      "image/png": "[encoded data removed]",
      "text/plain": [
       "<Figure size 1000x600 with 1 Axes>"
      ]
     },
     "metadata": {},
     "output_type": "display_data"
    }
   ],
   "source": [
    "barplot(df[\"year\"].unique(),df_year[\"discount\"],\"Year\",\"Discount\",\"Discount Over the Years\",\"discount_over_years.png\")"
   ]
  },
  {
   "cell_type": "markdown",
   "id": "6a6f25c0",
   "metadata": {},
   "source": [
    "Even though 2015 had the highest sales, quantity of goods sold, and discount rate, it resulted in a significant loss. One possible explanation is that the quantity of goods sold exceeded the inventory level, leading to stockouts or additional costs for fulfilling orders. However, we cannot confirm this without having access to data on inventory levels. Another possibility is that the cost of goods sold (COGS) was higher than the sales amount, resulting in a loss. However, we also cannot confirm this without having access to COGS data. While discounts can increase sales, they can also eat into profits. Therefore, it is likely that the discounts offered in 2015 played a role in the losses incurred that year.\n",
    "\n",
    "To determine which sub_category or product were responsible for the losses, we can look at the discount rate for each category for the year 2015."
   ]
  },
  {
   "cell_type": "markdown",
   "id": "fefaef3d",
   "metadata": {},
   "source": [
    "## Unraveling the Mystery of 2015 Losses"
   ]
  },
  {
   "cell_type": "code",
   "execution_count": 25,
   "id": "913f052e",
   "metadata": {},
   "outputs": [],
   "source": [
    "#transactions for the year 2015\n",
    "\n",
    "df15 = df[df[\"year\"] == str(2015)]"
   ]
  },
  {
   "cell_type": "code",
   "execution_count": 26,
   "id": "e468f755",
   "metadata": {},
   "outputs": [],
   "source": [
    "#grouping by category of goods\n",
    "\n",
    "cat_df15 = df15.groupby(\"category\").sum()"
   ]
  },
  {
   "cell_type": "code",
   "execution_count": 27,
   "id": "c5f83ea9",
   "metadata": {},
   "outputs": [
    {
     "data": {
      "text/html": [
       "<div>\n",
       "<style scoped>\n",
       "    .dataframe tbody tr th:only-of-type {\n",
       "        vertical-align: middle;\n",
       "    }\n",
       "\n",
       "    .dataframe tbody tr th {\n",
       "        vertical-align: top;\n",
       "    }\n",
       "\n",
       "    .dataframe thead th {\n",
       "        text-align: right;\n",
       "    }\n",
       "</style>\n",
       "<table border=\"1\" class=\"dataframe\">\n",
       "  <thead>\n",
       "    <tr style=\"text-align: right;\">\n",
       "      <th></th>\n",
       "      <th>postal_code</th>\n",
       "      <th>sales</th>\n",
       "      <th>quantity</th>\n",
       "      <th>discount</th>\n",
       "      <th>profit</th>\n",
       "    </tr>\n",
       "    <tr>\n",
       "      <th>category</th>\n",
       "      <th></th>\n",
       "      <th></th>\n",
       "      <th></th>\n",
       "      <th></th>\n",
       "      <th></th>\n",
       "    </tr>\n",
       "  </thead>\n",
       "  <tbody>\n",
       "    <tr>\n",
       "      <th>Furniture</th>\n",
       "      <td>686269</td>\n",
       "      <td>7325.6357</td>\n",
       "      <td>49</td>\n",
       "      <td>2.47</td>\n",
       "      <td>-1923.8943</td>\n",
       "    </tr>\n",
       "    <tr>\n",
       "      <th>Office Supplies</th>\n",
       "      <td>809202</td>\n",
       "      <td>934.4960</td>\n",
       "      <td>70</td>\n",
       "      <td>4.60</td>\n",
       "      <td>110.4510</td>\n",
       "    </tr>\n",
       "    <tr>\n",
       "      <th>Technology</th>\n",
       "      <td>167045</td>\n",
       "      <td>385.1480</td>\n",
       "      <td>6</td>\n",
       "      <td>0.20</td>\n",
       "      <td>47.9076</td>\n",
       "    </tr>\n",
       "  </tbody>\n",
       "</table>\n",
       "</div>"
      ],
      "text/plain": [
       "                 postal_code      sales  quantity  discount     profit\n",
       "category                                                              \n",
       "Furniture             686269  7325.6357        49      2.47 -1923.8943\n",
       "Office Supplies       809202   934.4960        70      4.60   110.4510\n",
       "Technology            167045   385.1480         6      0.20    47.9076"
      ]
     },
     "execution_count": 27,
     "metadata": {},
     "output_type": "execute_result"
    }
   ],
   "source": [
    "cat_df15"
   ]
  },
  {
   "cell_type": "code",
   "execution_count": 28,
   "id": "1635bf9e",
   "metadata": {},
   "outputs": [
    {
     "data": {
      "image/png": "[encoded data removed]",
      "text/plain": [
       "<Figure size 1000x600 with 1 Axes>"
      ]
     },
     "metadata": {},
     "output_type": "display_data"
    }
   ],
   "source": [
    "lineplot(df[\"category\"].unique(),cat_df15[\"profit\"],\"Category\",\"Profit\",\"Product Profit Breakdown in 2015\",\"CategoryProfit_for_2015.png\")"
   ]
  },
  {
   "cell_type": "code",
   "execution_count": 29,
   "id": "96067781",
   "metadata": {},
   "outputs": [
    {
     "data": {
      "image/png": "[encoded data removed]",
      "text/plain": [
       "<Figure size 1000x600 with 1 Axes>"
      ]
     },
     "metadata": {},
     "output_type": "display_data"
    }
   ],
   "source": [
    "barplot(df[\"category\"].unique(),cat_df15[\"discount\"],\"Category\",\"Discount\",\"Discount of products in 2015\",\"CategoryDiscount_for_2015.png\")"
   ]
  },
  {
   "cell_type": "markdown",
   "id": "70d6b7e6",
   "metadata": {},
   "source": [
    "Our analysis has revealed that the furniture subcategory incurred the most losses in 2015. To further investigate the reasons behind these losses, let's delve into the data and identify the specific subcategories that contributed most significantly to the overall losses."
   ]
  },
  {
   "cell_type": "code",
   "execution_count": 30,
   "id": "ce352e64",
   "metadata": {},
   "outputs": [],
   "source": [
    "# Furniture dataset for 2015\n",
    "\n",
    "df15furn = df15[df15['category']==\"Furniture\"]"
   ]
  },
  {
   "cell_type": "code",
   "execution_count": 31,
   "id": "119be52c",
   "metadata": {},
   "outputs": [
    {
     "data": {
      "text/html": [
       "<div>\n",
       "<style scoped>\n",
       "    .dataframe tbody tr th:only-of-type {\n",
       "        vertical-align: middle;\n",
       "    }\n",
       "\n",
       "    .dataframe tbody tr th {\n",
       "        vertical-align: top;\n",
       "    }\n",
       "\n",
       "    .dataframe thead th {\n",
       "        text-align: right;\n",
       "    }\n",
       "</style>\n",
       "<table border=\"1\" class=\"dataframe\">\n",
       "  <thead>\n",
       "    <tr style=\"text-align: right;\">\n",
       "      <th></th>\n",
       "      <th>order_id</th>\n",
       "      <th>order_date</th>\n",
       "      <th>ship_date</th>\n",
       "      <th>ship_mode</th>\n",
       "      <th>customer_id</th>\n",
       "      <th>customer_name</th>\n",
       "      <th>segment</th>\n",
       "      <th>country</th>\n",
       "      <th>city</th>\n",
       "      <th>state</th>\n",
       "      <th>...</th>\n",
       "      <th>region</th>\n",
       "      <th>product_id</th>\n",
       "      <th>category</th>\n",
       "      <th>sub_category</th>\n",
       "      <th>product_name</th>\n",
       "      <th>sales</th>\n",
       "      <th>quantity</th>\n",
       "      <th>discount</th>\n",
       "      <th>profit</th>\n",
       "      <th>year</th>\n",
       "    </tr>\n",
       "  </thead>\n",
       "  <tbody>\n",
       "    <tr>\n",
       "      <th>38</th>\n",
       "      <td>CA-2015-117415</td>\n",
       "      <td>2015-12-27</td>\n",
       "      <td>2015-12-31</td>\n",
       "      <td>Standard Class</td>\n",
       "      <td>SN-20710</td>\n",
       "      <td>Steve Nguyen</td>\n",
       "      <td>Home Office</td>\n",
       "      <td>United States</td>\n",
       "      <td>Houston</td>\n",
       "      <td>Texas</td>\n",
       "      <td>...</td>\n",
       "      <td>Central</td>\n",
       "      <td>FUR-BO-10002545</td>\n",
       "      <td>Furniture</td>\n",
       "      <td>Bookcases</td>\n",
       "      <td>Atlantic Metals Mobile 3-Shelf Bookcases, Cust...</td>\n",
       "      <td>532.3992</td>\n",
       "      <td>3</td>\n",
       "      <td>0.32</td>\n",
       "      <td>-46.9764</td>\n",
       "      <td>2015</td>\n",
       "    </tr>\n",
       "    <tr>\n",
       "      <th>72</th>\n",
       "      <td>US-2015-134026</td>\n",
       "      <td>2015-04-26</td>\n",
       "      <td>2015-05-02</td>\n",
       "      <td>Standard Class</td>\n",
       "      <td>JE-15745</td>\n",
       "      <td>Joel Eaton</td>\n",
       "      <td>Consumer</td>\n",
       "      <td>United States</td>\n",
       "      <td>Memphis</td>\n",
       "      <td>Tennessee</td>\n",
       "      <td>...</td>\n",
       "      <td>South</td>\n",
       "      <td>FUR-CH-10000513</td>\n",
       "      <td>Furniture</td>\n",
       "      <td>Chairs</td>\n",
       "      <td>High-Back Leather Manager's Chair</td>\n",
       "      <td>831.9360</td>\n",
       "      <td>8</td>\n",
       "      <td>0.20</td>\n",
       "      <td>-114.3912</td>\n",
       "      <td>2015</td>\n",
       "    </tr>\n",
       "    <tr>\n",
       "      <th>73</th>\n",
       "      <td>US-2015-134026</td>\n",
       "      <td>2015-04-26</td>\n",
       "      <td>2015-05-02</td>\n",
       "      <td>Standard Class</td>\n",
       "      <td>JE-15745</td>\n",
       "      <td>Joel Eaton</td>\n",
       "      <td>Consumer</td>\n",
       "      <td>United States</td>\n",
       "      <td>Memphis</td>\n",
       "      <td>Tennessee</td>\n",
       "      <td>...</td>\n",
       "      <td>South</td>\n",
       "      <td>FUR-FU-10003708</td>\n",
       "      <td>Furniture</td>\n",
       "      <td>Furnishings</td>\n",
       "      <td>Tenex Traditional Chairmats for Medium Pile Ca...</td>\n",
       "      <td>97.0400</td>\n",
       "      <td>2</td>\n",
       "      <td>0.20</td>\n",
       "      <td>1.2130</td>\n",
       "      <td>2015</td>\n",
       "    </tr>\n",
       "    <tr>\n",
       "      <th>29</th>\n",
       "      <td>US-2015-150630</td>\n",
       "      <td>2015-09-17</td>\n",
       "      <td>2015-09-21</td>\n",
       "      <td>Standard Class</td>\n",
       "      <td>TB-21520</td>\n",
       "      <td>Tracy Blumstein</td>\n",
       "      <td>Consumer</td>\n",
       "      <td>United States</td>\n",
       "      <td>Philadelphia</td>\n",
       "      <td>Pennsylvania</td>\n",
       "      <td>...</td>\n",
       "      <td>East</td>\n",
       "      <td>FUR-FU-10004848</td>\n",
       "      <td>Furniture</td>\n",
       "      <td>Furnishings</td>\n",
       "      <td>Howard Miller 13-3/4\" Diameter Brushed Chrome ...</td>\n",
       "      <td>124.2000</td>\n",
       "      <td>3</td>\n",
       "      <td>0.20</td>\n",
       "      <td>15.5250</td>\n",
       "      <td>2015</td>\n",
       "    </tr>\n",
       "    <tr>\n",
       "      <th>3</th>\n",
       "      <td>US-2015-108966</td>\n",
       "      <td>2015-10-11</td>\n",
       "      <td>2015-10-18</td>\n",
       "      <td>Standard Class</td>\n",
       "      <td>SO-20335</td>\n",
       "      <td>Sean O'Donnell</td>\n",
       "      <td>Consumer</td>\n",
       "      <td>United States</td>\n",
       "      <td>Fort Lauderdale</td>\n",
       "      <td>Florida</td>\n",
       "      <td>...</td>\n",
       "      <td>South</td>\n",
       "      <td>FUR-TA-10000577</td>\n",
       "      <td>Furniture</td>\n",
       "      <td>Tables</td>\n",
       "      <td>Bretford CR4500 Series Slim Rectangular Table</td>\n",
       "      <td>957.5775</td>\n",
       "      <td>5</td>\n",
       "      <td>0.45</td>\n",
       "      <td>-383.0310</td>\n",
       "      <td>2015</td>\n",
       "    </tr>\n",
       "  </tbody>\n",
       "</table>\n",
       "<p>5 rows × 21 columns</p>\n",
       "</div>"
      ],
      "text/plain": [
       "          order_id  order_date   ship_date       ship_mode customer_id  \\\n",
       "38  CA-2015-117415  2015-12-27  2015-12-31  Standard Class    SN-20710   \n",
       "72  US-2015-134026  2015-04-26  2015-05-02  Standard Class    JE-15745   \n",
       "73  US-2015-134026  2015-04-26  2015-05-02  Standard Class    JE-15745   \n",
       "29  US-2015-150630  2015-09-17  2015-09-21  Standard Class    TB-21520   \n",
       "3   US-2015-108966  2015-10-11  2015-10-18  Standard Class    SO-20335   \n",
       "\n",
       "      customer_name      segment        country             city  \\\n",
       "38     Steve Nguyen  Home Office  United States          Houston   \n",
       "72       Joel Eaton     Consumer  United States          Memphis   \n",
       "73       Joel Eaton     Consumer  United States          Memphis   \n",
       "29  Tracy Blumstein     Consumer  United States     Philadelphia   \n",
       "3    Sean O'Donnell     Consumer  United States  Fort Lauderdale   \n",
       "\n",
       "           state  ...   region       product_id   category sub_category  \\\n",
       "38         Texas  ...  Central  FUR-BO-10002545  Furniture    Bookcases   \n",
       "72     Tennessee  ...    South  FUR-CH-10000513  Furniture       Chairs   \n",
       "73     Tennessee  ...    South  FUR-FU-10003708  Furniture  Furnishings   \n",
       "29  Pennsylvania  ...     East  FUR-FU-10004848  Furniture  Furnishings   \n",
       "3        Florida  ...    South  FUR-TA-10000577  Furniture       Tables   \n",
       "\n",
       "                                         product_name     sales  quantity  \\\n",
       "38  Atlantic Metals Mobile 3-Shelf Bookcases, Cust...  532.3992         3   \n",
       "72                  High-Back Leather Manager's Chair  831.9360         8   \n",
       "73  Tenex Traditional Chairmats for Medium Pile Ca...   97.0400         2   \n",
       "29  Howard Miller 13-3/4\" Diameter Brushed Chrome ...  124.2000         3   \n",
       "3       Bretford CR4500 Series Slim Rectangular Table  957.5775         5   \n",
       "\n",
       "    discount    profit  year  \n",
       "38      0.32  -46.9764  2015  \n",
       "72      0.20 -114.3912  2015  \n",
       "73      0.20    1.2130  2015  \n",
       "29      0.20   15.5250  2015  \n",
       "3       0.45 -383.0310  2015  \n",
       "\n",
       "[5 rows x 21 columns]"
      ]
     },
     "execution_count": 31,
     "metadata": {},
     "output_type": "execute_result"
    }
   ],
   "source": [
    "#Display random sample\n",
    "\n",
    "df15furn.sample(5)"
   ]
  },
  {
   "cell_type": "code",
   "execution_count": 32,
   "id": "601cd230",
   "metadata": {},
   "outputs": [
    {
     "data": {
      "text/html": [
       "<div>\n",
       "<style scoped>\n",
       "    .dataframe tbody tr th:only-of-type {\n",
       "        vertical-align: middle;\n",
       "    }\n",
       "\n",
       "    .dataframe tbody tr th {\n",
       "        vertical-align: top;\n",
       "    }\n",
       "\n",
       "    .dataframe thead th {\n",
       "        text-align: right;\n",
       "    }\n",
       "</style>\n",
       "<table border=\"1\" class=\"dataframe\">\n",
       "  <thead>\n",
       "    <tr style=\"text-align: right;\">\n",
       "      <th></th>\n",
       "      <th>postal_code</th>\n",
       "      <th>sales</th>\n",
       "      <th>quantity</th>\n",
       "      <th>discount</th>\n",
       "      <th>profit</th>\n",
       "    </tr>\n",
       "    <tr>\n",
       "      <th>sub_category</th>\n",
       "      <th></th>\n",
       "      <th></th>\n",
       "      <th></th>\n",
       "      <th></th>\n",
       "      <th></th>\n",
       "    </tr>\n",
       "  </thead>\n",
       "  <tbody>\n",
       "    <tr>\n",
       "      <th>Bookcases</th>\n",
       "      <td>96181</td>\n",
       "      <td>3615.8292</td>\n",
       "      <td>10</td>\n",
       "      <td>0.82</td>\n",
       "      <td>-1712.0286</td>\n",
       "    </tr>\n",
       "    <tr>\n",
       "      <th>Chairs</th>\n",
       "      <td>222910</td>\n",
       "      <td>1347.0990</td>\n",
       "      <td>17</td>\n",
       "      <td>0.80</td>\n",
       "      <td>-127.6626</td>\n",
       "    </tr>\n",
       "    <tr>\n",
       "      <th>Furnishings</th>\n",
       "      <td>249810</td>\n",
       "      <td>360.5000</td>\n",
       "      <td>14</td>\n",
       "      <td>0.40</td>\n",
       "      <td>58.5630</td>\n",
       "    </tr>\n",
       "    <tr>\n",
       "      <th>Tables</th>\n",
       "      <td>117368</td>\n",
       "      <td>2002.2075</td>\n",
       "      <td>8</td>\n",
       "      <td>0.45</td>\n",
       "      <td>-142.7661</td>\n",
       "    </tr>\n",
       "  </tbody>\n",
       "</table>\n",
       "</div>"
      ],
      "text/plain": [
       "              postal_code      sales  quantity  discount     profit\n",
       "sub_category                                                       \n",
       "Bookcases           96181  3615.8292        10      0.82 -1712.0286\n",
       "Chairs             222910  1347.0990        17      0.80  -127.6626\n",
       "Furnishings        249810   360.5000        14      0.40    58.5630\n",
       "Tables             117368  2002.2075         8      0.45  -142.7661"
      ]
     },
     "execution_count": 32,
     "metadata": {},
     "output_type": "execute_result"
    }
   ],
   "source": [
    "#group by sub category\n",
    "\n",
    "sub_cat15 = df15furn.groupby('sub_category').sum()\n",
    "sub_cat15"
   ]
  },
  {
   "cell_type": "code",
   "execution_count": 33,
   "id": "b1083821",
   "metadata": {},
   "outputs": [
    {
     "data": {
      "image/png": "[encoded data removed]",
      "text/plain": [
       "<Figure size 1000x600 with 1 Axes>"
      ]
     },
     "metadata": {},
     "output_type": "display_data"
    }
   ],
   "source": [
    "#Call the lineplot and plot the profit for subcategory in 2015\n",
    "\n",
    "lineplot([\"Bookcases\",\"Chairs\",\"Furnishings\",\"Tables\"],sub_cat15[\"profit\"],\"Year\",\"Discount\",\"Sub Category Profit breakdown for 2015\",\"SubCategoryProfit_for_2015.png\")"
   ]
  },
  {
   "cell_type": "code",
   "execution_count": 34,
   "id": "6d041e91",
   "metadata": {},
   "outputs": [
    {
     "data": {
      "text/plain": [
       "Furnishings    5\n",
       "Chairs         4\n",
       "Tables         2\n",
       "Bookcases      2\n",
       "Name: sub_category, dtype: int64"
      ]
     },
     "execution_count": 34,
     "metadata": {},
     "output_type": "execute_result"
    }
   ],
   "source": [
    "#Sub category under furniture\n",
    "\n",
    "y = df15furn.sub_category.value_counts()\n",
    "y"
   ]
  },
  {
   "cell_type": "code",
   "execution_count": 35,
   "id": "361a107e",
   "metadata": {},
   "outputs": [],
   "source": [
    "my_explode = [0,0,0,0.1]"
   ]
  },
  {
   "cell_type": "code",
   "execution_count": 36,
   "id": "1254ef01",
   "metadata": {},
   "outputs": [
    {
     "data": {
      "text/plain": [
       "Index(['Furnishings', 'Chairs', 'Tables', 'Bookcases'], dtype='object')"
      ]
     },
     "execution_count": 36,
     "metadata": {},
     "output_type": "execute_result"
    }
   ],
   "source": [
    "mylabel = df15furn.sub_category.value_counts().keys()\n",
    "mylabel"
   ]
  },
  {
   "cell_type": "code",
   "execution_count": 37,
   "id": "e204da98",
   "metadata": {},
   "outputs": [
    {
     "data": {
      "image/png": "[encoded data removed]",
      "text/plain": [
       "<Figure size 1000x600 with 1 Axes>"
      ]
     },
     "metadata": {},
     "output_type": "display_data"
    }
   ],
   "source": [
    "plt.figure(figsize=(10,6))\n",
    "plt.pie(y,labels = mylabel,explode = my_explode, shadow=True)\n",
    "plt.legend(title = \"Sub-category:\",loc=\"upper left\")\n",
    "plt.suptitle(\"Sub-Category\")\n",
    "plt.savefig(\"Furniure_SubCategory_2015.png\")\n",
    "plt.show()"
   ]
  },
  {
   "cell_type": "markdown",
   "id": "10c80234",
   "metadata": {},
   "source": [
    "Although it is clear that furniture, most specifically the bookcases incurred the most losses in 2015 but doesn't have the highest discount rate which means the discount rate is not the only factor responsible because Office supplies, which had a discount rate that was twice as high as furniture, was still profitable.\n",
    "\n",
    "Other factors that may have contributed to the losses in 2015 which may include the mode of transportation and the customer segment. Different modes of transportation have different costs, and different customer segments may have different discount rates."
   ]
  },
  {
   "cell_type": "markdown",
   "id": "90a58742",
   "metadata": {},
   "source": [
    "### Unveiling the Puzzle of Furniture Losses in 2015: Exploring Transportation, Customer Segments, and Other Factors"
   ]
  },
  {
   "cell_type": "code",
   "execution_count": 38,
   "id": "0a6d551b",
   "metadata": {},
   "outputs": [
    {
     "data": {
      "text/html": [
       "<div>\n",
       "<style scoped>\n",
       "    .dataframe tbody tr th:only-of-type {\n",
       "        vertical-align: middle;\n",
       "    }\n",
       "\n",
       "    .dataframe tbody tr th {\n",
       "        vertical-align: top;\n",
       "    }\n",
       "\n",
       "    .dataframe thead th {\n",
       "        text-align: right;\n",
       "    }\n",
       "</style>\n",
       "<table border=\"1\" class=\"dataframe\">\n",
       "  <thead>\n",
       "    <tr style=\"text-align: right;\">\n",
       "      <th></th>\n",
       "      <th>state</th>\n",
       "      <th>postal_code</th>\n",
       "      <th>region</th>\n",
       "      <th>product_id</th>\n",
       "      <th>category</th>\n",
       "      <th>sub_category</th>\n",
       "      <th>product_name</th>\n",
       "      <th>sales</th>\n",
       "      <th>quantity</th>\n",
       "      <th>discount</th>\n",
       "      <th>profit</th>\n",
       "      <th>year</th>\n",
       "    </tr>\n",
       "  </thead>\n",
       "  <tbody>\n",
       "    <tr>\n",
       "      <th>27</th>\n",
       "      <td>Pennsylvania</td>\n",
       "      <td>19140</td>\n",
       "      <td>East</td>\n",
       "      <td>FUR-BO-10004834</td>\n",
       "      <td>Furniture</td>\n",
       "      <td>Bookcases</td>\n",
       "      <td>Riverside Palais Royal Lawyers Bookcase, Royal...</td>\n",
       "      <td>3083.4300</td>\n",
       "      <td>7</td>\n",
       "      <td>0.50</td>\n",
       "      <td>-1665.0522</td>\n",
       "      <td>2015</td>\n",
       "    </tr>\n",
       "    <tr>\n",
       "      <th>38</th>\n",
       "      <td>Texas</td>\n",
       "      <td>77041</td>\n",
       "      <td>Central</td>\n",
       "      <td>FUR-BO-10002545</td>\n",
       "      <td>Furniture</td>\n",
       "      <td>Bookcases</td>\n",
       "      <td>Atlantic Metals Mobile 3-Shelf Bookcases, Cust...</td>\n",
       "      <td>532.3992</td>\n",
       "      <td>3</td>\n",
       "      <td>0.32</td>\n",
       "      <td>-46.9764</td>\n",
       "      <td>2015</td>\n",
       "    </tr>\n",
       "  </tbody>\n",
       "</table>\n",
       "</div>"
      ],
      "text/plain": [
       "           state  postal_code   region       product_id   category  \\\n",
       "27  Pennsylvania        19140     East  FUR-BO-10004834  Furniture   \n",
       "38         Texas        77041  Central  FUR-BO-10002545  Furniture   \n",
       "\n",
       "   sub_category                                       product_name      sales  \\\n",
       "27    Bookcases  Riverside Palais Royal Lawyers Bookcase, Royal...  3083.4300   \n",
       "38    Bookcases  Atlantic Metals Mobile 3-Shelf Bookcases, Cust...   532.3992   \n",
       "\n",
       "    quantity  discount     profit  year  \n",
       "27         7      0.50 -1665.0522  2015  \n",
       "38         3      0.32   -46.9764  2015  "
      ]
     },
     "execution_count": 38,
     "metadata": {},
     "output_type": "execute_result"
    }
   ],
   "source": [
    "bookcases_df15 = df15furn[df15furn.sub_category==\"Bookcases\"]\n",
    "bookcases_df15.iloc[:,9:]"
   ]
  },
  {
   "cell_type": "code",
   "execution_count": 39,
   "id": "4db2c93a",
   "metadata": {},
   "outputs": [],
   "source": [
    "#Generate a dictonary\n",
    "\n",
    "data = {\n",
    "    \"state\":[bookcases_df15.iloc[0,9],bookcases_df15.iloc[0,9],\n",
    "            bookcases_df15.iloc[1,9],bookcases_df15.iloc[1,9]],\n",
    "    \"quan_dis\":[\"quantity\",\"discount\",\n",
    "               \"quantity\",\"discount\"],\n",
    "    \"qd_value\":[bookcases_df15.iloc[0,17],bookcases_df15.iloc[0,18],\n",
    "            bookcases_df15.iloc[1,17],bookcases_df15.iloc[1,18]],\n",
    "    \"sal_prof\":[\"sales\",\"profit\",\n",
    "                \"sales\",\"profit\"],\n",
    "    \"sp_value\":[bookcases_df15.iloc[0,16],bookcases_df15.iloc[0,19],\n",
    "            bookcases_df15.iloc[1,16],bookcases_df15.iloc[1,19]]\n",
    "}"
   ]
  },
  {
   "cell_type": "code",
   "execution_count": 40,
   "id": "149fab5f",
   "metadata": {},
   "outputs": [
    {
     "data": {
      "text/html": [
       "<div>\n",
       "<style scoped>\n",
       "    .dataframe tbody tr th:only-of-type {\n",
       "        vertical-align: middle;\n",
       "    }\n",
       "\n",
       "    .dataframe tbody tr th {\n",
       "        vertical-align: top;\n",
       "    }\n",
       "\n",
       "    .dataframe thead th {\n",
       "        text-align: right;\n",
       "    }\n",
       "</style>\n",
       "<table border=\"1\" class=\"dataframe\">\n",
       "  <thead>\n",
       "    <tr style=\"text-align: right;\">\n",
       "      <th></th>\n",
       "      <th>state</th>\n",
       "      <th>quan_dis</th>\n",
       "      <th>qd_value</th>\n",
       "      <th>sal_prof</th>\n",
       "      <th>sp_value</th>\n",
       "    </tr>\n",
       "  </thead>\n",
       "  <tbody>\n",
       "    <tr>\n",
       "      <th>0</th>\n",
       "      <td>Pennsylvania</td>\n",
       "      <td>quantity</td>\n",
       "      <td>7.00</td>\n",
       "      <td>sales</td>\n",
       "      <td>3083.4300</td>\n",
       "    </tr>\n",
       "    <tr>\n",
       "      <th>1</th>\n",
       "      <td>Pennsylvania</td>\n",
       "      <td>discount</td>\n",
       "      <td>0.50</td>\n",
       "      <td>profit</td>\n",
       "      <td>-1665.0522</td>\n",
       "    </tr>\n",
       "    <tr>\n",
       "      <th>2</th>\n",
       "      <td>Texas</td>\n",
       "      <td>quantity</td>\n",
       "      <td>3.00</td>\n",
       "      <td>sales</td>\n",
       "      <td>532.3992</td>\n",
       "    </tr>\n",
       "    <tr>\n",
       "      <th>3</th>\n",
       "      <td>Texas</td>\n",
       "      <td>discount</td>\n",
       "      <td>0.32</td>\n",
       "      <td>profit</td>\n",
       "      <td>-46.9764</td>\n",
       "    </tr>\n",
       "  </tbody>\n",
       "</table>\n",
       "</div>"
      ],
      "text/plain": [
       "          state  quan_dis  qd_value sal_prof   sp_value\n",
       "0  Pennsylvania  quantity      7.00    sales  3083.4300\n",
       "1  Pennsylvania  discount      0.50   profit -1665.0522\n",
       "2         Texas  quantity      3.00    sales   532.3992\n",
       "3         Texas  discount      0.32   profit   -46.9764"
      ]
     },
     "execution_count": 40,
     "metadata": {},
     "output_type": "execute_result"
    }
   ],
   "source": [
    "#Convert to a dataframe\n",
    "\n",
    "bookcases_df = pd.DataFrame(data)\n",
    "bookcases_df"
   ]
  },
  {
   "cell_type": "code",
   "execution_count": 41,
   "id": "577a7ea8",
   "metadata": {
    "scrolled": false
   },
   "outputs": [
    {
     "data": {
      "image/png": "[encoded data removed]",
      "text/plain": [
       "<Figure size 1000x600 with 1 Axes>"
      ]
     },
     "metadata": {},
     "output_type": "display_data"
    }
   ],
   "source": [
    "sns.set()\n",
    "plt.figure(figsize=(10,6))\n",
    "sns.barplot(data = bookcases_df,x = \"state\",y=\"qd_value\",hue = \"quan_dis\")\n",
    "plt.xlabel(\"State\",fontweight='bold')\n",
    "plt.ylabel(\"Quantity and Discount\",fontweight='bold')\n",
    "plt.title(\"Quantity & Discount by State\",fontweight='bold')\n",
    "plt.xticks(rotation=45)\n",
    "plt.savefig(\"Bookcases_2015_quanDis.png\")\n",
    "plt.show()"
   ]
  },
  {
   "cell_type": "markdown",
   "id": "4ca19b6a",
   "metadata": {},
   "source": [
    "A closer examination of the data reveals that a greater quantity of bookcases were sold to Pennsylvania at a higher discount compared to Texas. This observation raises intriguing questions about the factors influencing sales and profit margins in these two states. Let's delve into the data and visualize the sales and profit trends for bookcases in Pennsylvania and Texas."
   ]
  },
  {
   "cell_type": "code",
   "execution_count": 42,
   "id": "3f3b3371",
   "metadata": {},
   "outputs": [
    {
     "data": {
      "image/png": "[encoded data removed]",
      "text/plain": [
       "<Figure size 1000x600 with 1 Axes>"
      ]
     },
     "metadata": {},
     "output_type": "display_data"
    }
   ],
   "source": [
    "sns.set()\n",
    "plt.figure(figsize=(10,6))\n",
    "sns.barplot(data = bookcases_df,x = \"state\",y=\"sp_value\",hue = \"sal_prof\")\n",
    "plt.xlabel(\"State\",fontweight='bold')\n",
    "plt.ylabel(\"Sales and Profit\",fontweight='bold')\n",
    "plt.title(\"Sales & Profit by State\",fontweight='bold')\n",
    "plt.xticks(rotation=45)\n",
    "plt.savefig(\"Bookcases_2015_salesProfit.png\")\n",
    "plt.show()"
   ]
  },
  {
   "cell_type": "markdown",
   "id": "269e866c",
   "metadata": {},
   "source": [
    "Despite the high prices of bookcases sold to Pennsylvania, these sales resulted in a considerable loss for the company, this leads us to the following inference:"
   ]
  },
  {
   "cell_type": "markdown",
   "id": "3ad7d451",
   "metadata": {},
   "source": [
    "## Inference\n",
    "\n",
    "* **High discounts** were a significant factor in the losses, particularly for Customer 1, who received a 50% discount.\n",
    "\n",
    "* **Customer 1's larger purchase quantity** amplified the impact of the discount, leading to a more substantial loss.\n",
    "\n",
    "* **The \"Consumer\" segment** may be more price-sensitive than the \"Home Office\" segment, suggesting that discounts should be tailored to different customer groups.\n",
    "\n",
    "* **Geographical factors** such as shipping costs, taxes, and market dynamics could also be playing a role in the losses.\n",
    "\n",
    "To address these issues, the company should consider the following actions:\n",
    "\n",
    "* **Reevaluate pricing strategy:** Moderate discounts and tiered pricing for bulk purchases could improve profit margins.\n",
    "\n",
    "* **Segment-specific pricing:** Differentiate pricing for the \"Consumer\" segment to avoid excessive discounts.\n",
    "\n",
    "* **Quantity-based discounts:** Optimize quantity discounts to encourage bulk purchases without compromising profitability.\n",
    "\n",
    "* **Review shipping costs:** Ensure shipping costs are not eroding profitability and explore cost-effective shipping options.\n",
    "\n",
    "* **Consider geographic variations:** Adjust pricing, taxes, and marketing strategies based on regional factors.\n",
    "\n",
    "* **Educate customers:** Communicate the value of products and savings from quantity purchases to offset the perception of high discounts.\n"
   ]
  },
  {
   "cell_type": "markdown",
   "id": "f38d66a7",
   "metadata": {},
   "source": [
    "# Conclusion\n",
    "\n",
    "By implementing these measures, the company can work towards mitigating losses and improving overall profitability, while also remembering that the goal is to continually attract customers while also striking a balance in maintaining profitability."
   ]
  }
 ],
 "metadata": {
  "kernelspec": {
   "display_name": "Python 3 (ipykernel)",
   "language": "python",
   "name": "python3"
  },
  "language_info": {
   "codemirror_mode": {
    "name": "ipython",
    "version": 3
   },
   "file_extension": ".py",
   "mimetype": "text/x-python",
   "name": "python",
   "nbconvert_exporter": "python",
   "pygments_lexer": "ipython3",
   "version": "3.11.4"
  }
 },
 "nbformat": 4,
 "nbformat_minor": 5
}
